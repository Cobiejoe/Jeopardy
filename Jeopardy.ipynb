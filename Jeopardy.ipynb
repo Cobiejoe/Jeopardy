{
 "cells": [
  {
   "cell_type": "markdown",
   "id": "saved-circumstances",
   "metadata": {},
   "source": [
    "## Jeopardy Project\n",
    "\n",
    "The following is a demonstration of fundamental knowledge and navigation skills within the Pandas library using data from the popular quiz-show 'Jeopardy!\". Project idea and original csv file was provided by CodeCademy.com with a list of problem sets for the student (myself) to complete using data-frame manipulation and function creation technical skills."
   ]
  },
  {
   "cell_type": "code",
   "execution_count": 1,
   "id": "intelligent-mandate",
   "metadata": {},
   "outputs": [],
   "source": [
    "import pandas as pd\n",
    "pd.set_option('display.max_colwidth', None)\n",
    "\n",
    "jeopardy = pd.read_csv('jeopardy.csv')"
   ]
  },
  {
   "cell_type": "markdown",
   "id": "alleged-gibraltar",
   "metadata": {},
   "source": [
    "The first step was to import the necessary libraries for the project (in this case, only pandas) and create a variable to display a readable dataframe to work with. The set_option() function was used to display the full contents of each column."
   ]
  },
  {
   "cell_type": "code",
   "execution_count": 2,
   "id": "honey-contact",
   "metadata": {},
   "outputs": [
    {
     "data": {
      "text/html": [
       "<div>\n",
       "<style scoped>\n",
       "    .dataframe tbody tr th:only-of-type {\n",
       "        vertical-align: middle;\n",
       "    }\n",
       "\n",
       "    .dataframe tbody tr th {\n",
       "        vertical-align: top;\n",
       "    }\n",
       "\n",
       "    .dataframe thead th {\n",
       "        text-align: right;\n",
       "    }\n",
       "</style>\n",
       "<table border=\"1\" class=\"dataframe\">\n",
       "  <thead>\n",
       "    <tr style=\"text-align: right;\">\n",
       "      <th></th>\n",
       "      <th>Show Number</th>\n",
       "      <th>Air Date</th>\n",
       "      <th>Round</th>\n",
       "      <th>Category</th>\n",
       "      <th>Value</th>\n",
       "      <th>Question</th>\n",
       "      <th>Answer</th>\n",
       "    </tr>\n",
       "  </thead>\n",
       "  <tbody>\n",
       "    <tr>\n",
       "      <th>0</th>\n",
       "      <td>4680</td>\n",
       "      <td>2004-12-31</td>\n",
       "      <td>Jeopardy!</td>\n",
       "      <td>HISTORY</td>\n",
       "      <td>$200</td>\n",
       "      <td>For the last 8 years of his life, Galileo was under house arrest for espousing this man's theory</td>\n",
       "      <td>Copernicus</td>\n",
       "    </tr>\n",
       "    <tr>\n",
       "      <th>1</th>\n",
       "      <td>4680</td>\n",
       "      <td>2004-12-31</td>\n",
       "      <td>Jeopardy!</td>\n",
       "      <td>ESPN's TOP 10 ALL-TIME ATHLETES</td>\n",
       "      <td>$200</td>\n",
       "      <td>No. 2: 1912 Olympian; football star at Carlisle Indian School; 6 MLB seasons with the Reds, Giants &amp; Braves</td>\n",
       "      <td>Jim Thorpe</td>\n",
       "    </tr>\n",
       "    <tr>\n",
       "      <th>2</th>\n",
       "      <td>4680</td>\n",
       "      <td>2004-12-31</td>\n",
       "      <td>Jeopardy!</td>\n",
       "      <td>EVERYBODY TALKS ABOUT IT...</td>\n",
       "      <td>$200</td>\n",
       "      <td>The city of Yuma in this state has a record average of 4,055 hours of sunshine each year</td>\n",
       "      <td>Arizona</td>\n",
       "    </tr>\n",
       "    <tr>\n",
       "      <th>3</th>\n",
       "      <td>4680</td>\n",
       "      <td>2004-12-31</td>\n",
       "      <td>Jeopardy!</td>\n",
       "      <td>THE COMPANY LINE</td>\n",
       "      <td>$200</td>\n",
       "      <td>In 1963, live on \"The Art Linkletter Show\", this company served its billionth burger</td>\n",
       "      <td>McDonald's</td>\n",
       "    </tr>\n",
       "    <tr>\n",
       "      <th>4</th>\n",
       "      <td>4680</td>\n",
       "      <td>2004-12-31</td>\n",
       "      <td>Jeopardy!</td>\n",
       "      <td>EPITAPHS &amp; TRIBUTES</td>\n",
       "      <td>$200</td>\n",
       "      <td>Signer of the Dec. of Indep., framer of the Constitution of Mass., second President of the United States</td>\n",
       "      <td>John Adams</td>\n",
       "    </tr>\n",
       "  </tbody>\n",
       "</table>\n",
       "</div>"
      ],
      "text/plain": [
       "   Show Number    Air Date      Round                         Category Value  \\\n",
       "0         4680  2004-12-31  Jeopardy!                          HISTORY  $200   \n",
       "1         4680  2004-12-31  Jeopardy!  ESPN's TOP 10 ALL-TIME ATHLETES  $200   \n",
       "2         4680  2004-12-31  Jeopardy!      EVERYBODY TALKS ABOUT IT...  $200   \n",
       "3         4680  2004-12-31  Jeopardy!                 THE COMPANY LINE  $200   \n",
       "4         4680  2004-12-31  Jeopardy!              EPITAPHS & TRIBUTES  $200   \n",
       "\n",
       "                                                                                                      Question  \\\n",
       "0             For the last 8 years of his life, Galileo was under house arrest for espousing this man's theory   \n",
       "1  No. 2: 1912 Olympian; football star at Carlisle Indian School; 6 MLB seasons with the Reds, Giants & Braves   \n",
       "2                     The city of Yuma in this state has a record average of 4,055 hours of sunshine each year   \n",
       "3                         In 1963, live on \"The Art Linkletter Show\", this company served its billionth burger   \n",
       "4     Signer of the Dec. of Indep., framer of the Constitution of Mass., second President of the United States   \n",
       "\n",
       "       Answer  \n",
       "0  Copernicus  \n",
       "1  Jim Thorpe  \n",
       "2     Arizona  \n",
       "3  McDonald's  \n",
       "4  John Adams  "
      ]
     },
     "metadata": {},
     "output_type": "display_data"
    }
   ],
   "source": [
    "jeopardy = jeopardy.rename(columns = {\n",
    "    ' Show Number': 'Show Number',\n",
    "    ' Air Date': 'Air Date',\n",
    "    ' Round': 'Round',\n",
    "    ' Category': 'Category',\n",
    "    ' Value': 'Value',\n",
    "    ' Question': 'Question',\n",
    "    ' Answer': 'Answer'\n",
    "})\n",
    "display(jeopardy.head())"
   ]
  },
  {
   "cell_type": "markdown",
   "id": "crude-regular",
   "metadata": {},
   "source": [
    "The original csv file contained a sneaky empty space before each column header. The code above used the pd.rename() method to remove the space resulting in clear string values to work with for the rest of the project.\n",
    "\n",
    "Note: I imagine that there is an easier way to write this code. Having to type in each column name twice doesnt seem realistic for larger dataframes with the same or similar issues."
   ]
  },
  {
   "cell_type": "code",
   "execution_count": 3,
   "id": "confused-digit",
   "metadata": {},
   "outputs": [
    {
     "data": {
      "text/html": [
       "<div>\n",
       "<style scoped>\n",
       "    .dataframe tbody tr th:only-of-type {\n",
       "        vertical-align: middle;\n",
       "    }\n",
       "\n",
       "    .dataframe tbody tr th {\n",
       "        vertical-align: top;\n",
       "    }\n",
       "\n",
       "    .dataframe thead th {\n",
       "        text-align: right;\n",
       "    }\n",
       "</style>\n",
       "<table border=\"1\" class=\"dataframe\">\n",
       "  <thead>\n",
       "    <tr style=\"text-align: right;\">\n",
       "      <th></th>\n",
       "      <th>Show Number</th>\n",
       "      <th>Air Date</th>\n",
       "      <th>Round</th>\n",
       "      <th>Category</th>\n",
       "      <th>Value</th>\n",
       "      <th>Question</th>\n",
       "      <th>Answer</th>\n",
       "    </tr>\n",
       "  </thead>\n",
       "  <tbody>\n",
       "    <tr>\n",
       "      <th>160141</th>\n",
       "      <td>6139</td>\n",
       "      <td>2011-04-28</td>\n",
       "      <td>Double Jeopardy!</td>\n",
       "      <td>SPORTS SCIENCE</td>\n",
       "      <td>$400</td>\n",
       "      <td>(Sarah of the clue crew gives the clue from the Gatorade Sports Science Institute in Barrington, IL) Strength training breaks down muscle fibers but the rebuilding process requires this, made of amino acids, it's a key part of Gatorade's recovery drinks for after your workout</td>\n",
       "      <td>protein</td>\n",
       "    </tr>\n",
       "    <tr>\n",
       "      <th>160147</th>\n",
       "      <td>6139</td>\n",
       "      <td>2011-04-28</td>\n",
       "      <td>Double Jeopardy!</td>\n",
       "      <td>SPORTS SCIENCE</td>\n",
       "      <td>$800</td>\n",
       "      <td>(Jimmy of the clue crew gives the clue from the Gatorade Sports Science Institute in Barrington, IL) High performance liquid chromatography can be used to separate sucrose into its monosaccharide components of fructose and this sugar that's a primary fuel for muscle cells</td>\n",
       "      <td>glucose</td>\n",
       "    </tr>\n",
       "    <tr>\n",
       "      <th>160153</th>\n",
       "      <td>6139</td>\n",
       "      <td>2011-04-28</td>\n",
       "      <td>Double Jeopardy!</td>\n",
       "      <td>SPORTS SCIENCE</td>\n",
       "      <td>$1200</td>\n",
       "      <td>(Sarah of the Clue Crew gives the clue from the Gatorade Sports Science Institute in Barrington, IL.)  The concentration of these two expired gases determined by a metabolic chart tells athletes how many carbs as opposed to fat they're burning; burning a higher percentage of fat increases endurance</td>\n",
       "      <td>oxygen &amp; carbon dioxide</td>\n",
       "    </tr>\n",
       "    <tr>\n",
       "      <th>160159</th>\n",
       "      <td>6139</td>\n",
       "      <td>2011-04-28</td>\n",
       "      <td>Double Jeopardy!</td>\n",
       "      <td>SPORTS SCIENCE</td>\n",
       "      <td>$1600</td>\n",
       "      <td>(Sarah of the clue crew gives the clue from the Gatorade Sports Science Institute in Barrington, IL) The resistance changes along with the terrain on the screen as cyclists use this type of electronic device that evaluates their performance literally a \"work measure\"</td>\n",
       "      <td>an ergometer</td>\n",
       "    </tr>\n",
       "    <tr>\n",
       "      <th>160165</th>\n",
       "      <td>6139</td>\n",
       "      <td>2011-04-28</td>\n",
       "      <td>Double Jeopardy!</td>\n",
       "      <td>SPORTS SCIENCE</td>\n",
       "      <td>$2000</td>\n",
       "      <td>(Jimmy of the clue crew gives the clue from the Gatorade Sports Science Institute in Barrington, IL) The environmental chamber controls humidity and temperature to examine an athlete's sweating response and excretion of these which are basically  minerals that help your cells carry impulses</td>\n",
       "      <td>electrolytes</td>\n",
       "    </tr>\n",
       "  </tbody>\n",
       "</table>\n",
       "</div>"
      ],
      "text/plain": [
       "        Show Number    Air Date             Round        Category  Value  \\\n",
       "160141         6139  2011-04-28  Double Jeopardy!  SPORTS SCIENCE   $400   \n",
       "160147         6139  2011-04-28  Double Jeopardy!  SPORTS SCIENCE   $800   \n",
       "160153         6139  2011-04-28  Double Jeopardy!  SPORTS SCIENCE  $1200   \n",
       "160159         6139  2011-04-28  Double Jeopardy!  SPORTS SCIENCE  $1600   \n",
       "160165         6139  2011-04-28  Double Jeopardy!  SPORTS SCIENCE  $2000   \n",
       "\n",
       "                                                                                                                                                                                                                                                                                                           Question  \\\n",
       "160141                         (Sarah of the clue crew gives the clue from the Gatorade Sports Science Institute in Barrington, IL) Strength training breaks down muscle fibers but the rebuilding process requires this, made of amino acids, it's a key part of Gatorade's recovery drinks for after your workout   \n",
       "160147                             (Jimmy of the clue crew gives the clue from the Gatorade Sports Science Institute in Barrington, IL) High performance liquid chromatography can be used to separate sucrose into its monosaccharide components of fructose and this sugar that's a primary fuel for muscle cells   \n",
       "160153  (Sarah of the Clue Crew gives the clue from the Gatorade Sports Science Institute in Barrington, IL.)  The concentration of these two expired gases determined by a metabolic chart tells athletes how many carbs as opposed to fat they're burning; burning a higher percentage of fat increases endurance   \n",
       "160159                                  (Sarah of the clue crew gives the clue from the Gatorade Sports Science Institute in Barrington, IL) The resistance changes along with the terrain on the screen as cyclists use this type of electronic device that evaluates their performance literally a \"work measure\"   \n",
       "160165          (Jimmy of the clue crew gives the clue from the Gatorade Sports Science Institute in Barrington, IL) The environmental chamber controls humidity and temperature to examine an athlete's sweating response and excretion of these which are basically  minerals that help your cells carry impulses   \n",
       "\n",
       "                         Answer  \n",
       "160141                  protein  \n",
       "160147                  glucose  \n",
       "160153  oxygen & carbon dioxide  \n",
       "160159             an ergometer  \n",
       "160165             electrolytes  "
      ]
     },
     "metadata": {},
     "output_type": "display_data"
    }
   ],
   "source": [
    "def filtered_df(data, words):\n",
    "    filter = lambda x: all(word.lower() in x.lower() for word in words)\n",
    "    return data.loc[data['Question'].apply(filter)]\n",
    "                    \n",
    "filtered_questions = filtered_df(jeopardy, ['sports', 'science'])\n",
    "display(filtered_questions)        "
   ]
  },
  {
   "cell_type": "markdown",
   "id": "unsigned-rating",
   "metadata": {},
   "source": [
    "I defined a function called 'filtered_df' that took in a data-set and a word/ or list of words, and returned any inputs from the 'Question\" column of the dataframe that contained the word(s) parameter. Then I created a variable with the function call that used the words 'sports' and 'science' as examples.\n",
    "\n",
    "\n",
    "Note: This function has lots of room for improvement. I solved the issue with capitalization using a simple lambda function, but there are still many holes e.g. word substrings and punctuation aren't accounted for. "
   ]
  },
  {
   "cell_type": "code",
   "execution_count": 4,
   "id": "intense-brisbane",
   "metadata": {},
   "outputs": [
    {
     "name": "stdout",
     "output_type": "stream",
     "text": [
      "655.193482688391\n"
     ]
    }
   ],
   "source": [
    "jeopardy['Float_Values'] = jeopardy['Value'].apply(lambda x: float(x[1:].replace(',', '') if x != 'None' else 0))\n",
    "mean_difficulty = filtered_df(jeopardy, ['sports'])\n",
    "#display(jeopardy.head())\n",
    "print(mean_difficulty['Float_Values'].mean())    "
   ]
  },
  {
   "cell_type": "markdown",
   "id": "physical-measure",
   "metadata": {},
   "source": [
    "Next, I wanted to be able to perform some statistics using the dataframe. The 'Value' column of the original dataframe used dollar amounts represented by a string, so they weren't much use in performing calculations. I used a lambda function on each row to create a new column showing the float value of the dollar ammount. I then just performed a simple .mean() calculation to represent the average difficulty of the questions from the filtered dataframe i created before. "
   ]
  }
 ],
 "metadata": {
  "kernelspec": {
   "display_name": "Python 3",
   "language": "python",
   "name": "python3"
  },
  "language_info": {
   "codemirror_mode": {
    "name": "ipython",
    "version": 3
   },
   "file_extension": ".py",
   "mimetype": "text/x-python",
   "name": "python",
   "nbconvert_exporter": "python",
   "pygments_lexer": "ipython3",
   "version": "3.9.1"
  }
 },
 "nbformat": 4,
 "nbformat_minor": 5
}
